{
 "cells": [
  {
   "cell_type": "markdown",
   "id": "7f8e780b-50e8-4043-b3ed-689bc1bee29a",
   "metadata": {},
   "source": [
    "***Упражнение 2: Создание ячейки разметки с заголовком блокнота в стиле H1***\n",
    "# Data Science Tools and Ecosystem"
   ]
  },
  {
   "cell_type": "markdown",
   "id": "ef50ed23-ed0e-4634-acaf-405fde09a08e",
   "metadata": {},
   "source": [
    "***Упражнение 3 — Создание ячейки разметки для введения***\n",
    "### Введение \n",
    "In this notebook, Data Science Tools and Ecosystem are summarized."
   ]
  },
  {
   "cell_type": "markdown",
   "id": "76438a3e-c3bf-4b27-af66-0730d3c9e6e3",
   "metadata": {},
   "source": [
    "**Objectives:**\r\n",
    "\r\n",
    "- List programming languages for data science\r\n",
    "- List libraries for data science\r\n",
    "- Create a table of tools for data science\r\n",
    "- Provide examples of arithmetic expressions\r\n"
   ]
  },
  {
   "cell_type": "markdown",
   "id": "9796a24d-9dcb-46ad-8dae-3e915502410f",
   "metadata": {},
   "source": [
    "***Упражнение 4. Создание ячейки разметки для списка языков науки о данных***\n",
    "#### Some of the popular languages that Data Scientists use are:\n",
    "1. Python\r\n",
    "2. R\r\n",
    "3. SQL\r\n"
   ]
  },
  {
   "cell_type": "markdown",
   "id": "2cc80c36-a38a-4103-8cc8-bff925f7a53e",
   "metadata": {},
   "source": [
    "***Упражнение 5. Создание ячейки разметки для списка библиотек по науке о данных***\n",
    "#### Some of the commonly used libraries used by Data Scientists include:\n",
    "1. Pandas\r\n",
    "2. NumPy\r\n",
    "3. Scikit-learn\r\n"
   ]
  },
  {
   "cell_type": "markdown",
   "id": "1d33be37-daa4-4163-9dae-aed0f7622695",
   "metadata": {},
   "source": [
    "***Упражнение 6 — Создайте ячейку разметки с таблицей инструментов науки о данных***\n",
    "| Data Science Tools |\r\n",
    "|--------------------|\r\n",
    "| Jupyter Notebook   |\r\n",
    "| RStudio            |\r\n",
    "| Apache Zeppelin    |\r\n"
   ]
  },
  {
   "cell_type": "markdown",
   "id": "fc7a5201-9ced-41f3-9937-718255b06b10",
   "metadata": {},
   "source": [
    "***Упражнение 7. Создание ячейки разметки с примерами арифметических выражений***\n",
    "### Below are a few examples of evaluating arithmetic expressions in Python.\n",
    "```python\r\n",
    "# Addition\r\n",
    "a = 7 + 5\r\n",
    "print(a)  # Output: 12\r\n",
    "\r\n",
    "# Subtraction\r\n",
    "b = 20 - 4\r\n",
    "print(b)  # Output: 16\r\n",
    "\r\n",
    "# Multiplication\r\n",
    "c = 6 * 3\r\n",
    "print(c)  # Output: 18\r\n",
    "\r\n",
    "# Division\r\n",
    "d = 25 / 5\r\n",
    "print(d)  # Output: 5.0"
   ]
  },
  {
   "cell_type": "markdown",
   "id": "d76ead26-f45b-4c47-bb0d-dcda71aa4d3f",
   "metadata": {},
   "source": [
    "***Упражнение 8 — Создайте кодовую ячейку для умножения и сложения чисел***"
   ]
  },
  {
   "cell_type": "code",
   "execution_count": 56,
   "id": "7a738fdc-2066-40ae-9da6-01fbe8d34771",
   "metadata": {},
   "outputs": [
    {
     "data": {
      "text/plain": [
       "17"
      ]
     },
     "execution_count": 56,
     "metadata": {},
     "output_type": "execute_result"
    }
   ],
   "source": [
    "# This is a simple arithmetic expression to multiply then add integers\n",
    "(3 * 4) + 5"
   ]
  },
  {
   "cell_type": "markdown",
   "id": "36469377-c438-4bb6-816b-779509d66e45",
   "metadata": {},
   "source": [
    "***Упражнение 9 — Создайте ячейку кода для преобразования минут в часы***"
   ]
  },
  {
   "cell_type": "code",
   "execution_count": 74,
   "id": "088ef165-ae5f-4670-b481-b9c672491306",
   "metadata": {},
   "outputs": [
    {
     "data": {
      "text/plain": [
       "3.3333333333333335"
      ]
     },
     "execution_count": 74,
     "metadata": {},
     "output_type": "execute_result"
    }
   ],
   "source": [
    "# This will convert 200 minutes to hours by dividing by 60\n",
    "200 / 60"
   ]
  },
  {
   "cell_type": "markdown",
   "id": "2354adcc-f7f9-416d-9ce2-b0e177cf38c9",
   "metadata": {},
   "source": [
    "***Упражнение 11 — Создайте ячейку разметки для указания имени автора***"
   ]
  },
  {
   "cell_type": "markdown",
   "id": "f95cca8c-c57a-41a6-906b-90e93d70992e",
   "metadata": {},
   "source": [
    "## Author:\n",
    "Ольга П"
   ]
  },
  {
   "cell_type": "code",
   "execution_count": null,
   "id": "601a9821-96d7-40fb-8edd-cf08b3f3fe66",
   "metadata": {},
   "outputs": [],
   "source": []
  }
 ],
 "metadata": {
  "kernelspec": {
   "display_name": "anaconda-panel-2023.05-py310",
   "language": "python",
   "name": "conda-env-anaconda-panel-2023.05-py310-py"
  },
  "language_info": {
   "codemirror_mode": {
    "name": "ipython",
    "version": 3
   },
   "file_extension": ".py",
   "mimetype": "text/x-python",
   "name": "python",
   "nbconvert_exporter": "python",
   "pygments_lexer": "ipython3",
   "version": "3.11.5"
  }
 },
 "nbformat": 4,
 "nbformat_minor": 5
}

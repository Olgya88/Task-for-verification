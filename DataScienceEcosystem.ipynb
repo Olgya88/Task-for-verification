{
 "cells": [
  {
   "cell_type": "markdown",
   "id": "7f8e780b-50e8-4043-b3ed-689bc1bee29a",
   "metadata": {},
   "source": [
    "***Упражнение 2: Создание ячейки разметки с заголовком блокнота в стиле H1***\n",
    "# Data Science Tools and Ecosystem"
   ]
  },
  {
   "cell_type": "markdown",
   "id": "ef50ed23-ed0e-4634-acaf-405fde09a08e",
   "metadata": {},
   "source": [
    "***Упражнение 3 — Создание ячейки разметки для введения***\n",
    "\n",
    "### In this notebook, Data Science Tools and Ecosystem are summarized."
   ]
  },
  {
   "cell_type": "markdown",
   "id": "76438a3e-c3bf-4b27-af66-0730d3c9e6e3",
   "metadata": {},
   "source": [
    "**Objectives:**\n",
    "\n",
    "- List programming languages for data science\n",
    "- List libraries for data science\n",
    "- Create a table of tools for data science\n",
    "- Provide examples of arithmetic expressions\n"
   ]
  },
  {
   "cell_type": "markdown",
   "id": "9796a24d-9dcb-46ad-8dae-3e915502410f",
   "metadata": {},
   "source": [
    "***Упражнение 4. Создание ячейки разметки для списка языков науки о данных***\n",
    "#### Some of the popular languages that Data Scientists use are:\n",
    "1. Python\n",
    "2. R\n",
    "3. SQL\n",
    "4. Scala\n",
    "5. Java\n",
    "6. C ++\n"
   ]
  },
  {
   "cell_type": "markdown",
   "id": "2cc80c36-a38a-4103-8cc8-bff925f7a53e",
   "metadata": {},
   "source": [
    "***Упражнение 5. Создание ячейки разметки для списка библиотек по науке о данных***\n",
    "#### Some of the commonly used libraries used by Data Scientists include:\n",
    "1. Pandas\n",
    "2. NumPy\n",
    "3. Scikit-learn\n",
    "4. Matplotlib\n",
    "5. Seaborn\n",
    "6. TensorFlow\n"
   ]
  },
  {
   "cell_type": "markdown",
   "id": "1d33be37-daa4-4163-9dae-aed0f7622695",
   "metadata": {},
   "source": [
    "***Упражнение 6 — Создайте ячейку разметки с таблицей инструментов науки о данных***\n",
    "| Data Science Tools |\n",
    "|--------------------|\n",
    "| Jupyter Notebook   |\n",
    "| RStudio            |\n",
    "| Zeppelin           |\n",
    "| Anaconda           |\n",
    "| Spyder             |\n"
   ]
  },
  {
   "cell_type": "markdown",
   "id": "fc7a5201-9ced-41f3-9937-718255b06b10",
   "metadata": {},
   "source": [
    "***Упражнение 7. Создание ячейки разметки с примерами арифметических выражений***\n",
    "### Below are a few examples of evaluating arithmetic expressions in Python."
   ]
  },
  {
   "cell_type": "code",
   "execution_count": null,
   "id": "85e134cf",
   "metadata": {},
   "outputs": [],
   "source": []
  },
  {
   "cell_type": "markdown",
   "id": "d76ead26-f45b-4c47-bb0d-dcda71aa4d3f",
   "metadata": {},
   "source": [
    "***Упражнение 8 — Создайте кодовую ячейку для умножения и сложения чисел***"
   ]
  },
  {
   "cell_type": "code",
   "execution_count": 21,
   "id": "7a738fdc-2066-40ae-9da6-01fbe8d34771",
   "metadata": {},
   "outputs": [
    {
     "data": {
      "text/plain": [
       "17"
      ]
     },
     "execution_count": 21,
     "metadata": {},
     "output_type": "execute_result"
    }
   ],
   "source": [
    "# This is a simple arithmetic expression to multiply then add integers\n",
    "(3 * 4) + 5"
   ]
  },
  {
   "cell_type": "markdown",
   "id": "36469377-c438-4bb6-816b-779509d66e45",
   "metadata": {},
   "source": [
    "***Упражнение 9 — Создайте ячейку кода для преобразования минут в часы***"
   ]
  },
  {
   "cell_type": "code",
   "execution_count": 22,
   "id": "088ef165-ae5f-4670-b481-b9c672491306",
   "metadata": {},
   "outputs": [
    {
     "data": {
      "text/plain": [
       "3.33"
      ]
     },
     "execution_count": 22,
     "metadata": {},
     "output_type": "execute_result"
    }
   ],
   "source": [
    "# This will convert 200 minutes to hours by dividing by 60\n",
    "round(200 / 60, 2)"
   ]
  },
  {
   "cell_type": "markdown",
   "id": "2354adcc-f7f9-416d-9ce2-b0e177cf38c9",
   "metadata": {},
   "source": [
    "***Упражнение 11 — Создайте ячейку разметки для указания имени автора***"
   ]
  },
  {
   "cell_type": "markdown",
   "id": "f95cca8c-c57a-41a6-906b-90e93d70992e",
   "metadata": {},
   "source": [
    "## Author:\n",
    "Ольга П"
   ]
  }
 ],
 "metadata": {
  "kernelspec": {
   "display_name": "Python 3",
   "language": "python",
   "name": "python3"
  },
  "language_info": {
   "codemirror_mode": {
    "name": "ipython",
    "version": 3
   },
   "file_extension": ".py",
   "mimetype": "text/x-python",
   "name": "python",
   "nbconvert_exporter": "python",
   "pygments_lexer": "ipython3",
   "version": "3.13.0"
  }
 },
 "nbformat": 4,
 "nbformat_minor": 5
}
